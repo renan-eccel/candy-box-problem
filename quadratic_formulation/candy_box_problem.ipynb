{
 "cells": [
  {
   "cell_type": "markdown",
   "metadata": {},
   "source": [
    "# Modelo Matemático\n",
    "\\begin{equation}\n",
    "\\begin{array}{rl}\n",
    "\\min &  (\\sum_B c_i x_{i1} \n",
    "    - \\sum_B c_i x_{i2})^2\\\\\n",
    "s.t. & x_{i1} + x_{i2} = 1,  \\forall i \\in B \\\\\n",
    "& x_{ij} =  \\{0,1\\}, \\forall i \\in B \\land \\forall j \\in P\n",
    "\\end{array}\n",
    "\\end{equation}"
   ]
  },
  {
   "cell_type": "code",
   "execution_count": 1,
   "metadata": {},
   "outputs": [],
   "source": [
    "import pyomo.environ as poe\n",
    "modelo = poe.AbstractModel()"
   ]
  },
  {
   "cell_type": "markdown",
   "metadata": {},
   "source": [
    "<center><img src=\"fig/criancas.png\" width=\"300\"></center>\n",
    "\n",
    "Conjunto representando as crianças:"
   ]
  },
  {
   "cell_type": "code",
   "execution_count": 2,
   "metadata": {},
   "outputs": [],
   "source": [
    "modelo.P = poe.RangeSet(1,2)"
   ]
  },
  {
   "cell_type": "markdown",
   "metadata": {},
   "source": [
    "<center><img src=\"fig/bombons.png\" height=\"100\"></center>\n",
    "\n",
    "Conjunto representando os bombons:"
   ]
  },
  {
   "cell_type": "code",
   "execution_count": 3,
   "metadata": {},
   "outputs": [],
   "source": [
    "modelo.B = poe.Set()"
   ]
  },
  {
   "cell_type": "markdown",
   "metadata": {},
   "source": [
    "Nivel de gostosura dos bombons:"
   ]
  },
  {
   "cell_type": "code",
   "execution_count": 4,
   "metadata": {},
   "outputs": [],
   "source": [
    "modelo.c = poe.Param(modelo.B, within=poe.NonNegativeReals)"
   ]
  },
  {
   "cell_type": "markdown",
   "metadata": {},
   "source": [
    "Variáveis de decisão: \n",
    "* 1, se o bombom i for para a criança j\n",
    "* 0, caso contrário"
   ]
  },
  {
   "cell_type": "code",
   "execution_count": 5,
   "metadata": {},
   "outputs": [],
   "source": [
    "modelo.x = poe.Var(modelo.B, modelo.P, within=poe.Binary)"
   ]
  },
  {
   "cell_type": "markdown",
   "metadata": {},
   "source": [
    "Função objetivo:\n",
    "\\begin{equation}\n",
    "\\begin{array}{rl}\n",
    "\\min &  (\\sum_B c_i x_{i1} \n",
    "    - \\sum_B c_i x_{i2})^2\\\\\n",
    "\\end{array}\n",
    "\\end{equation}"
   ]
  },
  {
   "cell_type": "code",
   "execution_count": 6,
   "metadata": {},
   "outputs": [],
   "source": [
    "def funcao_objetivo(modelo):\n",
    "    return((sum(modelo.c[i]) * modelo.x[i, 1] for i in modelo.B)\n",
    "            - sum(modelo.c[i] * modelo.x[i, 2] for i in modelo.B))**2\n",
    "\n",
    "modelo.OBJ = poe.Objective(rule=funcao_objetivo)"
   ]
  },
  {
   "cell_type": "markdown",
   "metadata": {},
   "source": [
    "Restrições:\n",
    "\\begin{equation}\n",
    "\\begin{array}{rl}\n",
    "s.t. & x_{i1} + x_{i2} = 1,  \\forall i \\in B \\\\\n",
    "\\end{array}\n",
    "\\end{equation}"
   ]
  },
  {
   "cell_type": "code",
   "execution_count": 7,
   "metadata": {},
   "outputs": [],
   "source": [
    "def funcao_restricao_de_cobertura(modelo, i):\n",
    "    return modelo.x[i, 1] + modelo.x[i, 2] == 1\n",
    "\n",
    "modelo.restricao_de_cobertura = \\\n",
    "    poe.Constraint(modelo.B, rule=funcao_restricao_de_cobertura)"
   ]
  },
  {
   "cell_type": "code",
   "execution_count": 8,
   "metadata": {},
   "outputs": [
    {
     "name": "stdout",
     "output_type": "stream",
     "text": [
      "# AMPL format\n",
      "\n",
      "set B := 1 2 3 4 5 6;\n",
      "\n",
      "param c :=\n",
      "1 9\n",
      "2 5\n",
      "3 8\n",
      "4 1\n",
      "5 7\n",
      "6 2\n",
      ";\n",
      "\n",
      "\n"
     ]
    }
   ],
   "source": [
    "! cat candy_box_problem_instance.dat"
   ]
  },
  {
   "cell_type": "code",
   "execution_count": 10,
   "metadata": {},
   "outputs": [
    {
     "name": "stdout",
     "output_type": "stream",
     "text": [
      "[    0.00] Setting up Pyomo environment\n",
      "[    0.00] Applying Pyomo preprocessing actions\n",
      "[    0.00] Creating model\n",
      "[    0.01] Applying solver\n",
      "[    0.06] Processing results\n",
      "    Number of solutions: 1\n",
      "    Solution Information\n",
      "      Gap: None\n",
      "      Status: optimal\n",
      "      Function Value: 0.0\n",
      "    Solver results file: results.yml\n",
      "[    0.06] Applying Pyomo postprocessing actions\n",
      "[    0.06] Pyomo Finished\n"
     ]
    }
   ],
   "source": [
    "!pyomo solve candy_box_problem.py candy_box_problem_instance.dat --solver=bonmin"
   ]
  },
  {
   "cell_type": "code",
   "execution_count": 11,
   "metadata": {},
   "outputs": [
    {
     "name": "stdout",
     "output_type": "stream",
     "text": [
      "# ==========================================================\n",
      "# = Solver Results                                         =\n",
      "# ==========================================================\n",
      "# ----------------------------------------------------------\n",
      "#   Problem Information\n",
      "# ----------------------------------------------------------\n",
      "Problem: \n",
      "- Lower bound: -inf\n",
      "  Upper bound: inf\n",
      "  Number of objectives: 1\n",
      "  Number of constraints: 0\n",
      "  Number of variables: 12\n",
      "  Sense: unknown\n",
      "# ----------------------------------------------------------\n",
      "#   Solver Information\n",
      "# ----------------------------------------------------------\n",
      "Solver: \n",
      "- Status: ok\n",
      "  Message: bonmin\\x3a Optimal\n",
      "  Termination condition: optimal\n",
      "  Id: 3\n",
      "  Error rc: 0\n",
      "  Time: 0.0380711555480957\n",
      "# ----------------------------------------------------------\n",
      "#   Solution Information\n",
      "# ----------------------------------------------------------\n",
      "Solution: \n",
      "- number of solutions: 1\n",
      "  number of solutions displayed: 1\n",
      "- Gap: None\n",
      "  Status: optimal\n",
      "  Message: bonmin\\x3a Optimal\n",
      "  Objective:\n",
      "    OBJ:\n",
      "      Value: 0\n",
      "  Variable:\n",
      "    x[1,1]:\n",
      "      Value: 1\n",
      "    x[2,2]:\n",
      "      Value: 1\n",
      "    x[3,2]:\n",
      "      Value: 1\n",
      "    x[4,2]:\n",
      "      Value: 1\n",
      "    x[5,1]:\n",
      "      Value: 1\n",
      "    x[6,2]:\n",
      "      Value: 1\n",
      "  Constraint: No values\n"
     ]
    }
   ],
   "source": [
    "!cat results.yml"
   ]
  },
  {
   "cell_type": "code",
   "execution_count": null,
   "metadata": {},
   "outputs": [],
   "source": []
  }
 ],
 "metadata": {
  "kernelspec": {
   "display_name": "Python 3",
   "language": "python",
   "name": "python3"
  },
  "language_info": {
   "codemirror_mode": {
    "name": "ipython",
    "version": 3
   },
   "file_extension": ".py",
   "mimetype": "text/x-python",
   "name": "python",
   "nbconvert_exporter": "python",
   "pygments_lexer": "ipython3",
   "version": "3.6.4"
  }
 },
 "nbformat": 4,
 "nbformat_minor": 2
}
