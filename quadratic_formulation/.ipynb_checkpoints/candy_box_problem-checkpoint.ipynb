{
 "cells": [
  {
   "cell_type": "markdown",
   "metadata": {
    "slideshow": {
     "slide_type": "slide"
    }
   },
   "source": [
    "# Modelo Matemático\n",
    "\\begin{equation}\n",
    "\\begin{array}{rl}\n",
    "\\min &  (\\sum_B g_i x_{i1} - \\sum_B g_i x_{i2})^2\\\\\n",
    "s.t. & x_{i1} + x_{i2} = 1,  \\forall i \\in B \\\\\n",
    "& x_{ij} =  \\{0,1\\}, \\forall i \\in B \\land \\forall j \\in C\n",
    "\\end{array}\n",
    "\\end{equation}"
   ]
  },
  {
   "cell_type": "code",
   "execution_count": 1,
   "metadata": {
    "slideshow": {
     "slide_type": "fragment"
    }
   },
   "outputs": [],
   "source": [
    "import pyomo.environ as poe\n",
    "modelo = poe.AbstractModel()"
   ]
  },
  {
   "cell_type": "markdown",
   "metadata": {
    "slideshow": {
     "slide_type": "slide"
    }
   },
   "source": [
    "<center><img src=\"fig/criancas.png\" width=\"300\"></center>\n",
    "\n",
    "Conjunto representando as crianças:"
   ]
  },
  {
   "cell_type": "code",
   "execution_count": 2,
   "metadata": {
    "slideshow": {
     "slide_type": "fragment"
    }
   },
   "outputs": [],
   "source": [
    "modelo.criancas = poe.RangeSet(1,2)"
   ]
  },
  {
   "cell_type": "markdown",
   "metadata": {
    "slideshow": {
     "slide_type": "slide"
    }
   },
   "source": [
    "<center><img src=\"fig/bombons.png\" height=\"100\"></center>\n",
    "\n",
    "Conjunto representando os bombons:"
   ]
  },
  {
   "cell_type": "code",
   "execution_count": 3,
   "metadata": {
    "slideshow": {
     "slide_type": "fragment"
    }
   },
   "outputs": [],
   "source": [
    "modelo.bombons = poe.Set()"
   ]
  },
  {
   "cell_type": "markdown",
   "metadata": {
    "slideshow": {
     "slide_type": "fragment"
    }
   },
   "source": [
    "Nivel de gostosura dos bombons:"
   ]
  },
  {
   "cell_type": "code",
   "execution_count": 4,
   "metadata": {
    "slideshow": {
     "slide_type": "fragment"
    }
   },
   "outputs": [],
   "source": [
    "modelo.gostosura = poe.Param(modelo.bombons, within=poe.NonNegativeReals)"
   ]
  },
  {
   "cell_type": "markdown",
   "metadata": {
    "slideshow": {
     "slide_type": "slide"
    }
   },
   "source": [
    "Variáveis de decisão: \n",
    "\n",
    "\\begin{equation}\n",
    "\\begin{array}{rl}\n",
    "x_{11}\\ x_{21}\\  x_{31}\\  x_{41}\\  x_{51}\\  x_{61} \\\\\n",
    "x_{12}\\ x_{22}\\  x_{32}\\  x_{42}\\  x_{52}\\  x_{62}\n",
    "\\end{array}\n",
    "\\end{equation}\n",
    "\n",
    "* 1, se o bombom i for para a criança j\n",
    "* 0, caso contrário"
   ]
  },
  {
   "cell_type": "code",
   "execution_count": 5,
   "metadata": {
    "slideshow": {
     "slide_type": "fragment"
    }
   },
   "outputs": [],
   "source": [
    "modelo.x = poe.Var(modelo.bombons, modelo.criancas, within=poe.Binary)"
   ]
  },
  {
   "cell_type": "markdown",
   "metadata": {
    "slideshow": {
     "slide_type": "slide"
    }
   },
   "source": [
    "Função objetivo:\n",
    "\\begin{equation}\n",
    "\\begin{array}{rl}\n",
    "\\min &  (\\sum_B g_i x_{i1} - \\sum_B g_i x_{i2})^2\\\\\n",
    "\\end{array}\n",
    "\\end{equation}"
   ]
  },
  {
   "cell_type": "code",
   "execution_count": 6,
   "metadata": {
    "slideshow": {
     "slide_type": "fragment"
    }
   },
   "outputs": [],
   "source": [
    "def funcao_objetivo(modelo):\n",
    "    return((sum(modelo.gostosura[i] * modelo.x[i, 1] for i in modelo.bombons))\n",
    "            - sum(modelo.gostosura[i] * modelo.x[i, 2] for i in modelo.bombons))**2\n",
    "\n",
    "modelo.OBJ = poe.Objective(rule=funcao_objetivo)"
   ]
  },
  {
   "cell_type": "markdown",
   "metadata": {
    "slideshow": {
     "slide_type": "slide"
    }
   },
   "source": [
    "Restrições:\n",
    "\\begin{equation}\n",
    "\\begin{array}{rl}\n",
    "s.t. & x_{i1} + x_{i2} = 1,  \\forall i \\in B \\\\\n",
    "\\end{array}\n",
    "\\end{equation}"
   ]
  },
  {
   "cell_type": "code",
   "execution_count": 7,
   "metadata": {
    "slideshow": {
     "slide_type": "fragment"
    }
   },
   "outputs": [],
   "source": [
    "def funcao_restricao_de_cobertura(modelo, i):\n",
    "    return modelo.x[i, 1] + modelo.x[i, 2] == 1\n",
    "\n",
    "modelo.restricao_de_cobertura = \\\n",
    "    poe.Constraint(modelo.bombons, rule=funcao_restricao_de_cobertura)"
   ]
  },
  {
   "cell_type": "code",
   "execution_count": 8,
   "metadata": {
    "slideshow": {
     "slide_type": "slide"
    }
   },
   "outputs": [
    {
     "name": "stdout",
     "output_type": "stream",
     "text": [
      "# AMPL format\r\n",
      "\r\n",
      "set bombons := 1 2 3 4 5 6;\r\n",
      "\r\n",
      "param gostosura :=\r\n",
      "1 9\r\n",
      "2 5\r\n",
      "3 8\r\n",
      "4 1\r\n",
      "5 7\r\n",
      "6 2\r\n",
      ";\r\n",
      "\r\n",
      "\r\n"
     ]
    }
   ],
   "source": [
    "! cat candy_box_problem_instance.dat"
   ]
  },
  {
   "cell_type": "code",
   "execution_count": 9,
   "metadata": {
    "slideshow": {
     "slide_type": "slide"
    }
   },
   "outputs": [
    {
     "name": "stdout",
     "output_type": "stream",
     "text": [
      "[    0.00] Setting up Pyomo environment\n",
      "[    0.00] Applying Pyomo preprocessing actions\n",
      "[    0.00] Creating model\n",
      "[    0.01] Applying solver\n",
      "[    0.05] Processing results\n",
      "    Number of solutions: 1\n",
      "    Solution Information\n",
      "      Gap: None\n",
      "      Status: optimal\n",
      "      Function Value: 0.0\n",
      "    Solver results file: results.yml\n",
      "[    0.05] Applying Pyomo postprocessing actions\n",
      "[    0.05] Pyomo Finished\n"
     ]
    }
   ],
   "source": [
    "!pyomo solve candy_box_problem.py candy_box_problem_instance.dat --solver=bonmin"
   ]
  },
  {
   "cell_type": "code",
   "execution_count": 10,
   "metadata": {
    "slideshow": {
     "slide_type": "slide"
    }
   },
   "outputs": [
    {
     "name": "stdout",
     "output_type": "stream",
     "text": [
      "# ----------------------------------------------------------\r\n",
      "#   Solution Information\r\n",
      "# ----------------------------------------------------------\r\n",
      "Solution: \r\n",
      "- number of solutions: 1\r\n",
      "  number of solutions displayed: 1\r\n",
      "- Gap: None\r\n",
      "  Status: optimal\r\n",
      "  Message: bonmin\\x3a Optimal\r\n",
      "  Objective:\r\n",
      "    OBJ:\r\n",
      "      Value: 0\r\n",
      "  Variable:\r\n",
      "    x[1,2]:\r\n",
      "      Value: 1\r\n",
      "    x[2,2]:\r\n",
      "      Value: 1\r\n",
      "    x[3,1]:\r\n",
      "      Value: 1\r\n",
      "    x[4,1]:\r\n",
      "      Value: 1\r\n",
      "    x[5,1]:\r\n",
      "      Value: 1\r\n",
      "    x[6,2]:\r\n",
      "      Value: 1\r\n",
      "  Constraint: No values\r\n"
     ]
    }
   ],
   "source": [
    "!grep -B 1 -A 99 \"#   Solution Information\" results.yml"
   ]
  },
  {
   "cell_type": "code",
   "execution_count": null,
   "metadata": {},
   "outputs": [],
   "source": []
  }
 ],
 "metadata": {
  "celltoolbar": "Slideshow",
  "kernelspec": {
   "display_name": "Python 3",
   "language": "python",
   "name": "python3"
  },
  "language_info": {
   "codemirror_mode": {
    "name": "ipython",
    "version": 3
   },
   "file_extension": ".py",
   "mimetype": "text/x-python",
   "name": "python",
   "nbconvert_exporter": "python",
   "pygments_lexer": "ipython3",
   "version": "3.6.4"
  }
 },
 "nbformat": 4,
 "nbformat_minor": 2
}
